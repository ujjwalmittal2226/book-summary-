{
 "cells": [
  {
   "cell_type": "code",
   "execution_count": 9,
   "id": "b4187267",
   "metadata": {},
   "outputs": [
    {
     "name": "stdout",
     "output_type": "stream",
     "text": [
      "{1, 2, 3, 4, 5}\n",
      "{1, 2, 3, 5, 45}\n",
      "{1, 2, 3, 4, 5, 6, 7, 8, 9}\n",
      "{1, 2, 3, 5, 6, 7, 8, 9}\n",
      "{1, 2, 5, 6, 7, 8, 9}\n",
      "{2, 5, 6, 7, 8, 9}\n",
      "set()\n"
     ]
    }
   ],
   "source": [
    "#Set in python.not do indexing\n",
    "s =  {1,2,3,4,5}\n",
    "print(s)\n",
    "g= set([1,2,3,45,5]) \n",
    "print(g)\n",
    "s.add(6)#use to add sinle vaulue\n",
    "s.update([7,8,9])\n",
    "print(s)\n",
    "s.discard(4)#not give error\n",
    "print(s)\n",
    "s.remove(3)#give error if value notexist\n",
    "print(s)\n",
    "s.pop()#delete 1 randpm element\n",
    "print(s)\n",
    "s.clear()#delete the set\n",
    "print(s)"
   ]
  },
  {
   "cell_type": "code",
   "execution_count": 15,
   "id": "c594fe56",
   "metadata": {},
   "outputs": [
    {
     "name": "stdout",
     "output_type": "stream",
     "text": [
      "{1, 2, 3, 4, 5, 6, 7, 8}\n",
      "{1, 2, 3, 4, 5, 6, 7, 8}\n",
      "{3, 4, 5}\n",
      "{3, 4, 5}\n",
      "{1, 2}\n",
      "{1, 2, 6, 7, 8}\n"
     ]
    }
   ],
   "source": [
    "set1 = {1,2,3,4,5}\n",
    "set2 = {3,4,5,6,7,8}\n",
    "print(set1 | set2)# do union\n",
    "print(set1.union(set2))\n",
    "print(set1 & set2) #print common element\n",
    "print(set1.intersection(set2))\n",
    "print(set1-set2)#only the element of set1\n",
    "print(set1^set2)#symmetricdifference uncommon elemenrts"
   ]
  },
  {
   "cell_type": "code",
   "execution_count": 17,
   "id": "80ecf8d0",
   "metadata": {},
   "outputs": [
    {
     "ename": "TypeError",
     "evalue": "frozenset expected at most 1 argument, got 4",
     "output_type": "error",
     "traceback": [
      "\u001b[1;31m---------------------------------------------------------------------------\u001b[0m",
      "\u001b[1;31mTypeError\u001b[0m                                 Traceback (most recent call last)",
      "Cell \u001b[1;32mIn[17], line 1\u001b[0m\n\u001b[1;32m----> 1\u001b[0m set1 \u001b[38;5;241m=\u001b[39m \u001b[38;5;28;43mfrozenset\u001b[39;49m\u001b[43m(\u001b[49m\u001b[38;5;241;43m1\u001b[39;49m\u001b[43m,\u001b[49m\u001b[38;5;241;43m2\u001b[39;49m\u001b[43m,\u001b[49m\u001b[38;5;241;43m4\u001b[39;49m\u001b[43m,\u001b[49m\u001b[38;5;241;43m5\u001b[39;49m\u001b[43m)\u001b[49m\n",
      "\u001b[1;31mTypeError\u001b[0m: frozenset expected at most 1 argument, got 4"
     ]
    }
   ],
   "source": [
    "set1 = frozenset(1,2,4,5)#frozenset are immutable"
   ]
  },
  {
   "cell_type": "markdown",
   "id": "844ee685",
   "metadata": {},
   "source": [
    "Dictionary are key value pair data structure. It is changable and not allow duplicate."
   ]
  },
  {
   "cell_type": "code",
   "execution_count": 21,
   "id": "effd5034",
   "metadata": {},
   "outputs": [
    {
     "name": "stdout",
     "output_type": "stream",
     "text": [
      "{'1': 'chinnu', '2': 'mayank'}\n",
      "chinnu\n"
     ]
    }
   ],
   "source": [
    "dict1 = {\"1\":\"chinnu\",\"2\":\"mayank\"}\n",
    "print(dict1)\n",
    "print(dict1['1'])"
   ]
  },
  {
   "cell_type": "code",
   "execution_count": 22,
   "id": "da849004",
   "metadata": {},
   "outputs": [
    {
     "name": "stdout",
     "output_type": "stream",
     "text": [
      "Ram\n",
      "None\n",
      "19\n",
      "['Name', 'Age', 'Country']\n",
      "['Ram', '19', 'India']\n"
     ]
    }
   ],
   "source": [
    "d = {'Name': 'Ram', 'Age': '19', 'Country': 'India'}\n",
    "print(d.get('Name'))\n",
    "print(d.get('Gender'))\n",
    "print(list(d.items())[1][1])\n",
    "print(list(d.keys()))\n",
    "print(list(d.values()))"
   ]
  },
  {
   "cell_type": "code",
   "execution_count": 23,
   "id": "2d85894e",
   "metadata": {},
   "outputs": [
    {
     "name": "stdout",
     "output_type": "stream",
     "text": [
      "{'Name': 'Neha', 'Age': '22', 'Country': 'India'}\n"
     ]
    }
   ],
   "source": [
    "d1 = {'Name': 'Ram', 'Age': '19', 'Country': 'India'}\n",
    "d2 = {'Name': 'Neha', 'Age': '22'}\n",
    "\n",
    "d1.update(d2)\n",
    "print(d1)"
   ]
  },
  {
   "cell_type": "code",
   "execution_count": 25,
   "id": "0e4fc330",
   "metadata": {},
   "outputs": [
    {
     "name": "stdout",
     "output_type": "stream",
     "text": [
      "{'Name': 'Ram', 'Country': 'India'}\n",
      "('Name', 'Ram')\n",
      "('Country', 'India')\n"
     ]
    }
   ],
   "source": [
    "d = {'Name': 'Ram', 'Age': '19', 'Country': 'India'}\n",
    "d.pop('Age')#delete random element\n",
    "print(d)\n",
    "for pair in d.items():\n",
    "    print(pair)"
   ]
  },
  {
   "cell_type": "code",
   "execution_count": 35,
   "id": "76305293",
   "metadata": {},
   "outputs": [
    {
     "ename": "SyntaxError",
     "evalue": "unterminated string literal (detected at line 4) (1468139194.py, line 4)",
     "output_type": "error",
     "traceback": [
      "\u001b[1;36m  Cell \u001b[1;32mIn[35], line 4\u001b[1;36m\u001b[0m\n\u001b[1;33m    * are used when you don't kow how many argument are passed in your code.\u001b[0m\n\u001b[1;37m                           ^\u001b[0m\n\u001b[1;31mSyntaxError\u001b[0m\u001b[1;31m:\u001b[0m unterminated string literal (detected at line 4)\n"
     ]
    }
   ],
   "source": [
    "Function is a block of code, which is run when it is called. tou can pass data.\n",
    "we use def keyword for defining function.\n",
    "parameter is is information that passed into a functions.\n",
    "* are used when you don't kow how many argument are passed in your code.\n",
    "pass is used to remove error.\n",
    "recursion are functon call itself with reduced parameter."
   ]
  },
  {
   "cell_type": "code",
   "execution_count": 36,
   "id": "56ea415c",
   "metadata": {},
   "outputs": [
    {
     "name": "stdout",
     "output_type": "stream",
     "text": [
      "The youngest child isLinus\n"
     ]
    }
   ],
   "source": [
    "def my_funcn(child1,child2,child3):\n",
    "    print(\"The youngest child is\"+ child3)\n",
    "my_funcn(child1 ='Emil',child2 = 'Tobias',child3 = 'Linus')"
   ]
  },
  {
   "cell_type": "code",
   "execution_count": 37,
   "id": "feaad655",
   "metadata": {},
   "outputs": [
    {
     "name": "stdout",
     "output_type": "stream",
     "text": [
      "apple\n",
      "banana\n",
      "cheerry\n"
     ]
    }
   ],
   "source": [
    "def my_funct(food):\n",
    "    for x in food:\n",
    "        print(x)\n",
    "fruits = [\"apple\",\"banana\",\"cheerry\"]\n",
    "my_funct(fruits)"
   ]
  },
  {
   "cell_type": "markdown",
   "id": "90c6a408",
   "metadata": {},
   "source": [
    "local variable having local scope. global variable is access anywhere in program."
   ]
  },
  {
   "cell_type": "code",
   "execution_count": 39,
   "id": "e2548395",
   "metadata": {},
   "outputs": [
    {
     "name": "stdout",
     "output_type": "stream",
     "text": [
      "10\n"
     ]
    }
   ],
   "source": [
    "#lambda funcn\n",
    "double = lambda x:x*2\n",
    "print(double(5))"
   ]
  },
  {
   "cell_type": "code",
   "execution_count": 40,
   "id": "57c279c1",
   "metadata": {},
   "outputs": [
    {
     "name": "stdout",
     "output_type": "stream",
     "text": [
      "False True\n"
     ]
    }
   ],
   "source": [
    "# some more functions\n",
    "def is_prime(n):\n",
    "    if n in [2, 3]:\n",
    "        return True\n",
    "    if (n == 1) or (n % 2 == 0):\n",
    "        return False\n",
    "    r = 3\n",
    "    while r * r <= n:\n",
    "        if n % r == 0:\n",
    "            return False\n",
    "        r += 2\n",
    "    return True\n",
    "print(is_prime(78), is_prime(79))"
   ]
  },
  {
   "cell_type": "code",
   "execution_count": null,
   "id": "bd5e4215",
   "metadata": {},
   "outputs": [],
   "source": []
  }
 ],
 "metadata": {
  "kernelspec": {
   "display_name": "Python 3 (ipykernel)",
   "language": "python",
   "name": "python3"
  },
  "language_info": {
   "codemirror_mode": {
    "name": "ipython",
    "version": 3
   },
   "file_extension": ".py",
   "mimetype": "text/x-python",
   "name": "python",
   "nbconvert_exporter": "python",
   "pygments_lexer": "ipython3",
   "version": "3.10.9"
  }
 },
 "nbformat": 4,
 "nbformat_minor": 5
}
