{
 "cells": [
  {
   "cell_type": "markdown",
   "id": "78e50051",
   "metadata": {},
   "source": [
    "Let's Start Python Programming \n",
    "Python is a interpreted high- level(easy and more natural) , general purpose language(used to created various program) created by guido van rossum in 1991.\n",
    "Python is free and open source programming language, support all the OS. there are more than 300 standard libraries and various modules, there are many freely available add- on- modules,libraries, framework and toolkits."
   ]
  },
  {
   "cell_type": "markdown",
   "id": "de9b4f91",
   "metadata": {},
   "source": [
    "Python can easily done by anaconda and pycharm software.\n",
    "Python is cse sensitive language.\n",
    "\n",
    "Keyword are reservered WOrd, can't use in identifier and also case seensitive. there are 33 keywords."
   ]
  },
  {
   "cell_type": "markdown",
   "id": "634493f9",
   "metadata": {},
   "source": [
    "Identifier are the name given to the variable, class and other. they start with alphabet and _ and contains number also."
   ]
  },
  {
   "cell_type": "code",
   "execution_count": null,
   "id": "515306eb",
   "metadata": {},
   "outputs": [],
   "source": [
    "print(\"Hello World\")"
   ]
  },
  {
   "cell_type": "code",
   "execution_count": null,
   "id": "7294fb62",
   "metadata": {},
   "outputs": [],
   "source": [
    "a=12\n",
    "b=24\n",
    "print(\"Value of a is {0} and b is {1}\".format(a,b))"
   ]
  },
  {
   "cell_type": "code",
   "execution_count": null,
   "id": "ddde83c1",
   "metadata": {},
   "outputs": [],
   "source": [
    "n  = input(\"kuch dalna ha\")\n",
    "print(\"apne ye daala\",n)"
   ]
  },
  {
   "cell_type": "code",
   "execution_count": null,
   "id": "4663c653",
   "metadata": {},
   "outputs": [],
   "source": [
    "#comment -  help to understand the code and ignored by the compil\n",
    "\"\"\" multiline comments."
   ]
  },
  {
   "cell_type": "code",
   "execution_count": null,
   "id": "bf250c79",
   "metadata": {},
   "outputs": [],
   "source": [
    "y = 15\n",
    "print(id(y))\n",
    "print(type(y))"
   ]
  },
  {
   "cell_type": "code",
   "execution_count": null,
   "id": "3781e62c",
   "metadata": {},
   "outputs": [],
   "source": [
    "# We are able to write sring in single, double and triple quotes.\n",
    "a='hello world'\n",
    "b = \"print hello'to program\"\n",
    "c= ''' today I'm start learning \"python\" Hello'''\n",
    "print(a)\n",
    "print(b)\n",
    "print(c)\n",
    "a[0]=\"k\"\n",
    "print(a) #string is immutable"
   ]
  },
  {
   "cell_type": "code",
   "execution_count": null,
   "id": "4a613e08",
   "metadata": {},
   "outputs": [],
   "source": [
    "print(a[0])\n",
    "print(a[-1])\n",
    "print(len(a))"
   ]
  },
  {
   "cell_type": "code",
   "execution_count": null,
   "id": "25d14f78",
   "metadata": {},
   "outputs": [],
   "source": [
    "#eval() funcn use to convert string representive numeric expression into is evaluted numeric.\n",
    "\n",
    "val1 = eval (input('Enter the value of first variable: '))\n",
    "\n",
    "print('val1 =', val1, 'type:', type (val1))\n",
    "val2 = eval (input('Enter the value of second variable: '))\n",
    "print('val2 =', val2, 'type:', type (val2))\n",
    "val3 = eval (input('Enter the value of third variable: ')) \n",
    "print('val3 =', val3, 'type:', type (val3))"
   ]
  },
  {
   "cell_type": "code",
   "execution_count": null,
   "id": "7c6d2b92",
   "metadata": {},
   "outputs": [],
   "source": [
    "a,b,c  = eval(input('Enter three numbers : ')) # remember to gave output in one lien by colon.\n",
    "print(a,'+',b,'+',c, '=', a+b+c)"
   ]
  },
  {
   "cell_type": "markdown",
   "id": "cea31ecd",
   "metadata": {},
   "source": [
    "module is a file containing definitions, statements, functions, classes and variables. \n",
    "A module elps to logically organize nize the code; grouping of related codes into a module helps to use the code efficiently. \n",
    "Each module has a distinct name which is used as the global symbol in accessing all functions defined in the module.\n",
    "1. from module/library name import*.\n",
    "2. import module/library name.\n",
    "3. from module/library import."
   ]
  },
  {
   "cell_type": "code",
   "execution_count": null,
   "id": "a3b1edff",
   "metadata": {},
   "outputs": [],
   "source": [
    "print(b[0:]) #slicing \n",
    "\n"
   ]
  },
  {
   "cell_type": "code",
   "execution_count": null,
   "id": "743f328b",
   "metadata": {},
   "outputs": [],
   "source": [
    "#python list\n",
    "c =['tcs','wipro','cognizant','google']\n",
    "print(c)\n",
    "c[2]= \"adobe\"\n",
    "print(c)#list is mutable"
   ]
  },
  {
   "cell_type": "markdown",
   "id": "5eb708e8",
   "metadata": {},
   "source": [
    "Operator are special symbol in python that carry out logical and arithmetic computation."
   ]
  },
  {
   "cell_type": "code",
   "execution_count": null,
   "id": "a27c6e06",
   "metadata": {},
   "outputs": [],
   "source": [
    "a = 7\n",
    "b = 2\n",
    "\n",
    "# addition\n",
    "print ('Sum: ', a + b)  \n",
    "\n",
    "# subtraction\n",
    "print ('Subtraction: ', a - b)   \n",
    "\n",
    "# multiplication\n",
    "print ('Multiplication: ', a * b)  \n",
    "\n",
    "# division\n",
    "print ('Division: ', a / b) \n",
    "\n",
    "# floor division \n",
    "print ('Floor Division: ', a // b)\n",
    "\n",
    "# modulo / reminder\n",
    "print ('Modulo: ', a % b)  \n",
    "\n",
    "# a to the power b\n",
    "print ('Power: ', a ** b) "
   ]
  },
  {
   "cell_type": "code",
   "execution_count": null,
   "id": "86a3edbf",
   "metadata": {},
   "outputs": [],
   "source": [
    "# assign 10 to a\n",
    "a = 10\n",
    "\n",
    "# assign 5 to b\n",
    "b = 5 \n",
    "\n",
    "# assign the sum of a and b to a\n",
    "a += b      # a = a + b\n",
    "\n",
    "print(a)\n",
    "\n",
    "# Output: 15"
   ]
  },
  {
   "cell_type": "code",
   "execution_count": null,
   "id": "5fcce81b",
   "metadata": {},
   "outputs": [],
   "source": [
    "#Comparision operator\n",
    "a = 5\n",
    "\n",
    "b = 2\n",
    "\n",
    "# equal to operator\n",
    "print('a == b =', a == b)\n",
    "\n",
    "# not equal to operator\n",
    "print('a != b =', a != b)\n",
    "\n",
    "# greater than operator\n",
    "print('a > b =', a > b)\n",
    "\n",
    "# less than operator\n",
    "print('a < b =', a < b)\n",
    "\n",
    "# greater than or equal to operator\n",
    "print('a >= b =', a >= b)\n",
    "\n",
    "# less than or equal to operator\n",
    "print('a <= b =', a <= b)\n",
    "#answer in true and false.\n"
   ]
  },
  {
   "cell_type": "code",
   "execution_count": null,
   "id": "9280c359",
   "metadata": {},
   "outputs": [],
   "source": [
    "# logical AND\n",
    "print(True and True)     # True\n",
    "print(True and False)    # False\n",
    "\n",
    "# logical OR\n",
    "print(True or False)     # True\n",
    "\n",
    "# logical NOT\n",
    "print(not True)          # False\n"
   ]
  },
  {
   "cell_type": "code",
   "execution_count": null,
   "id": "f2f75f7d",
   "metadata": {},
   "outputs": [],
   "source": [
    "#Identity operator\n",
    "x1 = 5\n",
    "y1 = 5\n",
    "x2 = 'Hello'\n",
    "y2 = 'Hello'\n",
    "x3 = [1,2,3]\n",
    "y3 = [1,2,3]\n",
    "\n",
    "print(x1 is not y1)  # prints False\n",
    "\n",
    "print(x2 is y2)  # prints True\n",
    "\n",
    "print(x3 is y3)  # prints False"
   ]
  },
  {
   "cell_type": "code",
   "execution_count": null,
   "id": "e974729c",
   "metadata": {},
   "outputs": [],
   "source": [
    "#Membership operator\n",
    "message = 'Hello world'\n",
    "dict1 = {1:'a', 2:'b'}\n",
    "\n",
    "# check if 'H' is present in message string\n",
    "print('H' in message)  # prints True\n",
    "\n",
    "# check if 'hello' is present in message string\n",
    "print('hello' not in message)  # prints True\n",
    "\n",
    "# check if '1' key is present in dict1\n",
    "print(1 in dict1)  # prints True\n",
    "\n",
    "# check if 'a' key is present in dict1\n",
    "print('a' in dict1)  # prints False"
   ]
  },
  {
   "cell_type": "code",
   "execution_count": null,
   "id": "1dce99a2",
   "metadata": {},
   "outputs": [],
   "source": [
    "#If elif else condition\n",
    "a = 200\n",
    "b = 33\n",
    "if b > a:\n",
    "  print(\"b is greater than a\")\n",
    "elif a == b:\n",
    "  print(\"a and b are equal\")\n",
    "else:\n",
    "  print(\"a is greater than b\")"
   ]
  },
  {
   "cell_type": "code",
   "execution_count": null,
   "id": "3460088d",
   "metadata": {},
   "outputs": [],
   "source": [
    "x = 41\n",
    "\n",
    "if x > 10:\n",
    "  print(\"Above ten,\")\n",
    "  if x > 20:\n",
    "    print(\"and also above 20!\")\n",
    "  else:\n",
    "    print(\"but not above 20.\")"
   ]
  },
  {
   "cell_type": "markdown",
   "id": "9985831d",
   "metadata": {},
   "source": [
    "Python loop are used to do work many times - for,while loop.\n",
    "While loop execute same code again and again untila stop condition is met.\n",
    "for loop is number of repitation need to specify start,end and step argument."
   ]
  },
  {
   "cell_type": "code",
   "execution_count": null,
   "id": "35cd9332",
   "metadata": {},
   "outputs": [],
   "source": [
    "a = int(input('Enter a number (-1 to quit): '))\n",
    "\n",
    "while a != -1:\n",
    "    a = int(input('Enter a number (-1 to quit): '))"
   ]
  },
  {
   "cell_type": "code",
   "execution_count": null,
   "id": "b5f79c36",
   "metadata": {},
   "outputs": [],
   "source": [
    "a = 'learn-together'\n",
    "i = 0\n",
    "\n",
    "while i < len(a):\n",
    "    i += 1\n",
    "    pass\n",
    "  \n",
    "print('Value of i :', i)"
   ]
  },
  {
   "cell_type": "code",
   "execution_count": null,
   "id": "db22d12f",
   "metadata": {},
   "outputs": [],
   "source": [
    "for i in range(0, 10, 2):\n",
    "    print(i)"
   ]
  },
  {
   "cell_type": "code",
   "execution_count": null,
   "id": "47ff989e",
   "metadata": {},
   "outputs": [],
   "source": [
    "for i in range(1, 4):\n",
    "    for j in range(1, 4):\n",
    "        print(i, j)"
   ]
  },
  {
   "cell_type": "code",
   "execution_count": null,
   "id": "2e460e4e",
   "metadata": {},
   "outputs": [],
   "source": [
    "# Iterating over a list\n",
    "l = [\"learn\", \"data\", \"together\"]\n",
    "\n",
    "for i in l:\n",
    "    print(i)"
   ]
  },
  {
   "cell_type": "code",
   "execution_count": null,
   "id": "22d1c28a",
   "metadata": {},
   "outputs": [],
   "source": [
    "#Function is a set of statement organized to perform a specific task, use for executes multiple times wuth/without\n",
    "#different inputs.it uses top- down approach. python provide grear support to create user defined functions.\n",
    "#Creating total_salary() function for calculating total sala\n",
    "\n",
    "def total_salary(fixed_sal, variable_sal):\n",
    "    print(\"The total salary is: \", fixed_sal + variable_sal)\n",
    "\n",
    "#Calling the function according to user choice\n",
    "\n",
    "fixed_sal =50000\n",
    "\n",
    "score=int(input(\"Performance:1-Poor, 2-Average, 3-Above Average 4-Excellent:\"))\n",
    "\n",
    "if score==1:\n",
    "\n",
    "    variable_sal =10000\n",
    "    total_salary(fixed_sal, variable_sal)\n",
    "\n",
    "elif score==2:\n",
    "    variable_sal = 20000\n",
    "    total_salary(fixed_sal, variable_sal)\n",
    "    \n",
    "elif score==3:\n",
    "    variable_sal =40000 \n",
    "    total_salary(fixed_sal, variable_sal)\n",
    "\n",
    "elif score==4:\n",
    "    variable_sal = 60000\n",
    "    total_salary (fixed_sal, variable_sal)\n",
    "\n",
    "\n",
    "else:\n",
    "    print(\"Not a valid option\")\n"
   ]
  },
  {
   "cell_type": "code",
   "execution_count": null,
   "id": "cb7a18aa",
   "metadata": {},
   "outputs": [],
   "source": []
  },
  {
   "cell_type": "code",
   "execution_count": null,
   "id": "9779e767",
   "metadata": {},
   "outputs": [],
   "source": [
    "#List data structure is mostly used in python.\n",
    "List = ['Mathematics', 'chemistry', 1997, 2000]\n",
    "List.append(20544)\n",
    "print(List)\n",
    "List.insert(2, 10087)\n",
    "print(List)"
   ]
  },
  {
   "cell_type": "code",
   "execution_count": null,
   "id": "18c5662d",
   "metadata": {},
   "outputs": [],
   "source": [
    "List1 = [1, 2, 3]\n",
    "List2 = [2, 3, 4, 5]\n",
    "\n",
    "# Add List2 to List1\n",
    "List1.extend(List2)\n",
    "print(List1)\n",
    "print(sum(List1))\n"
   ]
  },
  {
   "cell_type": "code",
   "execution_count": null,
   "id": "f9240287",
   "metadata": {},
   "outputs": [],
   "source": [
    "List = [1, 2, 3, 1, 2, 1, 2, 3, 2, 1]\n",
    "print(List.count(1))\n",
    "print(len(List))\n",
    "print(List.index(2))\n",
    "print(min(List))"
   ]
  },
  {
   "cell_type": "code",
   "execution_count": null,
   "id": "034aeb59",
   "metadata": {},
   "outputs": [],
   "source": [
    "List = [1, 2, 3, 1, 2, 4, 3, 2, 6]\n",
    "print(List.index(2, 2)) #2 second time kaha aa rha haan.\n",
    "List.reverse()\n",
    "print(List)\n",
    "List.sort()\n",
    "print(List)\n",
    "print(List.pop())#delete last element\n",
    "print(List)\n",
    "del List[0]#remove 0th index element\n",
    "print(List)\n",
    "List.remove(3)\n",
    "print(List)"
   ]
  },
  {
   "cell_type": "code",
   "execution_count": null,
   "id": "5100b106",
   "metadata": {},
   "outputs": [],
   "source": [
    "# Python3 program to show the\n",
    "\n",
    "text = 'learn Python PROGRAM'\n",
    "print(\"\\nConverted String:UPPER CASE\")\n",
    "print(text.upper())\n",
    "    \n",
    "print(\"\\nConverted String:lower case\")\n",
    "print(text.lower())\n",
    "\n",
    "print(\"\\nConverted String:title case\")\n",
    "print(text.title())\n",
    "\n",
    "print(\"\\nConverted String:swapcase\")\n",
    "print(text.swapcase())\n",
    "\n",
    "\n",
    "print(\"\\nConverted String:capitalize\")\n",
    "print(text.capitalize())\n",
    "\n",
    "\n",
    "print(\"\\nOriginal String\")\n",
    "print(text)"
   ]
  },
  {
   "cell_type": "code",
   "execution_count": null,
   "id": "12331c7d",
   "metadata": {},
   "outputs": [],
   "source": [
    "upper(): Converts all characters in a string to uppercase.\n",
    "lower(): Converts all characters in a string to lowercase.\n",
    "find(substring): Returns the lowest index in the string where the substring is found.\n",
    "strip(): Removes any leading and trailing characters (space is the default).\n",
    "replace(old, new): Replaces occurrences of a substring within the string.\n",
    "split(delimiter): Splits the string at the specified delimiter and returns a list of substrings.\n",
    "join(iterable): Concatenates elements of an iterable with a specified separator.\n",
    "startswith(prefix): Checks if the string starts with the specified prefix.\n",
    "endswith(suffix): Checks if the string ends with the specified suffix."
   ]
  },
  {
   "cell_type": "code",
   "execution_count": null,
   "id": "136feab2",
   "metadata": {},
   "outputs": [],
   "source": [
    "message = 'Hola Amigos'\n",
    "\n",
    "# assign new string to message variable\n",
    "message = 'Hello Friends'\n",
    "\n",
    "print(message); # prints \"Hello Friends\""
   ]
  },
  {
   "cell_type": "code",
   "execution_count": null,
   "id": "34d68095",
   "metadata": {},
   "outputs": [],
   "source": [
    "str1 = \"Hello, world!\"\n",
    "str2 = \"I love Swift.\"\n",
    "\n",
    "\n",
    "# compare str1 and str2\n",
    "print(str1 == str2)\n",
    "result = str1 + str2\n",
    "print(result)\n",
    "for letter in result:\n",
    "    print(letter)"
   ]
  },
  {
   "cell_type": "code",
   "execution_count": null,
   "id": "9e607de6",
   "metadata": {},
   "outputs": [],
   "source": [
    "print('a' in 'program') # True\n",
    "print('at' not in 'battle') # False"
   ]
  },
  {
   "cell_type": "code",
   "execution_count": null,
   "id": "0224e62c",
   "metadata": {},
   "outputs": [],
   "source": [
    "t= (1,(2,3,1),['hello','world','12'])\n",
    "print(t)\n",
    "print(type(t))\n",
    "print(t[1])\n",
    "print(t[1][1])"
   ]
  },
  {
   "cell_type": "code",
   "execution_count": null,
   "id": "b7addf1b",
   "metadata": {},
   "outputs": [],
   "source": [
    "t=(1,2,3)+(3,4,5)\n",
    "print(t)\n",
    "print(3 in t)\n",
    "sorted_tuple = sorted(t)\n",
    "print(sorted_tuple)"
   ]
  },
  {
   "cell_type": "code",
   "execution_count": null,
   "id": "c53ed3bd",
   "metadata": {},
   "outputs": [],
   "source": []
  }
 ],
 "metadata": {
  "kernelspec": {
   "display_name": "Python 3 (ipykernel)",
   "language": "python",
   "name": "python3"
  },
  "language_info": {
   "codemirror_mode": {
    "name": "ipython",
    "version": 3
   },
   "file_extension": ".py",
   "mimetype": "text/x-python",
   "name": "python",
   "nbconvert_exporter": "python",
   "pygments_lexer": "ipython3",
   "version": "3.10.9"
  }
 },
 "nbformat": 4,
 "nbformat_minor": 5
}
