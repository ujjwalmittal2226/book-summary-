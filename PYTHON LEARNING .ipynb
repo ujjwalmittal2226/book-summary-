{
 "cells": [
  {
   "cell_type": "markdown",
   "id": "a8066ace",
   "metadata": {},
   "source": [
    "Let's Start Python Programming"
   ]
  },
  {
   "cell_type": "markdown",
   "id": "8e91e509",
   "metadata": {},
   "source": [
    "Keyword are reservered WOrd, can't use in identifier and also case seensitive. there are 33 keywords."
   ]
  },
  {
   "cell_type": "markdown",
   "id": "634493f9",
   "metadata": {},
   "source": [
    "Identifier are the name given to the variable, class and other. they start with alphabet and _ and contains number also."
   ]
  },
  {
   "cell_type": "code",
   "execution_count": 1,
   "id": "515306eb",
   "metadata": {},
   "outputs": [
    {
     "name": "stdout",
     "output_type": "stream",
     "text": [
      "Hello World\n"
     ]
    }
   ],
   "source": [
    "print(\"Hello World\")"
   ]
  },
  {
   "cell_type": "code",
   "execution_count": 10,
   "id": "7294fb62",
   "metadata": {},
   "outputs": [
    {
     "name": "stdout",
     "output_type": "stream",
     "text": [
      "Value of a is 12 and b is 24\n"
     ]
    }
   ],
   "source": [
    "a=12\n",
    "b=24\n",
    "print(\"Value of a is {0} and b is {1}\".format(a,b))"
   ]
  },
  {
   "cell_type": "code",
   "execution_count": 12,
   "id": "ddde83c1",
   "metadata": {},
   "outputs": [
    {
     "name": "stdout",
     "output_type": "stream",
     "text": [
      "kuch dalna ha45\n",
      "apne ye daala 45\n"
     ]
    }
   ],
   "source": [
    "n  = input(\"kuch dalna ha\")\n",
    "print(\"apne ye daala\",n)"
   ]
  },
  {
   "cell_type": "code",
   "execution_count": 13,
   "id": "4663c653",
   "metadata": {},
   "outputs": [],
   "source": [
    "#comment -  help to understand the code and ignored by the compiler"
   ]
  },
  {
   "cell_type": "code",
   "execution_count": 17,
   "id": "bf250c79",
   "metadata": {},
   "outputs": [
    {
     "name": "stdout",
     "output_type": "stream",
     "text": [
      "2311503741616\n",
      "<class 'int'>\n"
     ]
    }
   ],
   "source": [
    "y = 15\n",
    "print(id(y))\n",
    "print(type(y))"
   ]
  },
  {
   "cell_type": "code",
   "execution_count": 26,
   "id": "3781e62c",
   "metadata": {},
   "outputs": [
    {
     "name": "stdout",
     "output_type": "stream",
     "text": [
      "hello world\n",
      "print hello'to program\n",
      " today I'm start learning \"python\" Hello\n"
     ]
    },
    {
     "ename": "TypeError",
     "evalue": "'str' object does not support item assignment",
     "output_type": "error",
     "traceback": [
      "\u001b[1;31m---------------------------------------------------------------------------\u001b[0m",
      "\u001b[1;31mTypeError\u001b[0m                                 Traceback (most recent call last)",
      "Cell \u001b[1;32mIn[26], line 8\u001b[0m\n\u001b[0;32m      6\u001b[0m \u001b[38;5;28mprint\u001b[39m(b)\n\u001b[0;32m      7\u001b[0m \u001b[38;5;28mprint\u001b[39m(c)\n\u001b[1;32m----> 8\u001b[0m a[\u001b[38;5;241m0\u001b[39m]\u001b[38;5;241m=\u001b[39m\u001b[38;5;124m\"\u001b[39m\u001b[38;5;124mk\u001b[39m\u001b[38;5;124m\"\u001b[39m\n\u001b[0;32m      9\u001b[0m \u001b[38;5;28mprint\u001b[39m(a)\n",
      "\u001b[1;31mTypeError\u001b[0m: 'str' object does not support item assignment"
     ]
    }
   ],
   "source": [
    "# We are able to write sring in single, double and triple quotes.\n",
    "a='hello world'\n",
    "b = \"print hello'to program\"\n",
    "c= ''' today I'm start learning \"python\" Hello'''\n",
    "print(a)\n",
    "print(b)\n",
    "print(c)\n",
    "a[0]=\"k\"\n",
    "print(a) #string is immutable"
   ]
  },
  {
   "cell_type": "code",
   "execution_count": 22,
   "id": "4a613e08",
   "metadata": {},
   "outputs": [
    {
     "name": "stdout",
     "output_type": "stream",
     "text": [
      "h\n",
      "d\n",
      "11\n"
     ]
    }
   ],
   "source": [
    "print(a[0])\n",
    "print(a[-1])\n",
    "print(len(a))"
   ]
  },
  {
   "cell_type": "code",
   "execution_count": 27,
   "id": "a3b1edff",
   "metadata": {},
   "outputs": [
    {
     "name": "stdout",
     "output_type": "stream",
     "text": [
      "print hello'to program\n"
     ]
    }
   ],
   "source": [
    "print(b[0:]) #slicing \n",
    "\n"
   ]
  },
  {
   "cell_type": "code",
   "execution_count": 30,
   "id": "743f328b",
   "metadata": {},
   "outputs": [
    {
     "name": "stdout",
     "output_type": "stream",
     "text": [
      "['tcs', 'wipro', 'cognizant', 'google']\n",
      "['tcs', 'wipro', 'adobe', 'google']\n"
     ]
    }
   ],
   "source": [
    "#python list\n",
    "c =['tcs','wipro','cognizant','google']\n",
    "print(c)\n",
    "c[2]= \"adobe\"\n",
    "print(c)#list is mutable"
   ]
  },
  {
   "cell_type": "markdown",
   "id": "5eb708e8",
   "metadata": {},
   "source": [
    "Operator are special symbol in python that carry out logical and arithmetic computation."
   ]
  },
  {
   "cell_type": "code",
   "execution_count": 31,
   "id": "a27c6e06",
   "metadata": {},
   "outputs": [
    {
     "name": "stdout",
     "output_type": "stream",
     "text": [
      "Sum:  9\n",
      "Subtraction:  5\n",
      "Multiplication:  14\n",
      "Division:  3.5\n",
      "Floor Division:  3\n",
      "Modulo:  1\n",
      "Power:  49\n"
     ]
    }
   ],
   "source": [
    "a = 7\n",
    "b = 2\n",
    "\n",
    "# addition\n",
    "print ('Sum: ', a + b)  \n",
    "\n",
    "# subtraction\n",
    "print ('Subtraction: ', a - b)   \n",
    "\n",
    "# multiplication\n",
    "print ('Multiplication: ', a * b)  \n",
    "\n",
    "# division\n",
    "print ('Division: ', a / b) \n",
    "\n",
    "# floor division \n",
    "print ('Floor Division: ', a // b)\n",
    "\n",
    "# modulo / reminder\n",
    "print ('Modulo: ', a % b)  \n",
    "\n",
    "# a to the power b\n",
    "print ('Power: ', a ** b) "
   ]
  },
  {
   "cell_type": "code",
   "execution_count": 32,
   "id": "86a3edbf",
   "metadata": {},
   "outputs": [
    {
     "name": "stdout",
     "output_type": "stream",
     "text": [
      "15\n"
     ]
    }
   ],
   "source": [
    "# assign 10 to a\n",
    "a = 10\n",
    "\n",
    "# assign 5 to b\n",
    "b = 5 \n",
    "\n",
    "# assign the sum of a and b to a\n",
    "a += b      # a = a + b\n",
    "\n",
    "print(a)\n",
    "\n",
    "# Output: 15"
   ]
  },
  {
   "cell_type": "code",
   "execution_count": 33,
   "id": "5fcce81b",
   "metadata": {},
   "outputs": [
    {
     "name": "stdout",
     "output_type": "stream",
     "text": [
      "a == b = False\n",
      "a != b = True\n",
      "a > b = True\n",
      "a < b = False\n",
      "a >= b = True\n",
      "a <= b = False\n"
     ]
    }
   ],
   "source": [
    "#Comparision operator\n",
    "a = 5\n",
    "\n",
    "b = 2\n",
    "\n",
    "# equal to operator\n",
    "print('a == b =', a == b)\n",
    "\n",
    "# not equal to operator\n",
    "print('a != b =', a != b)\n",
    "\n",
    "# greater than operator\n",
    "print('a > b =', a > b)\n",
    "\n",
    "# less than operator\n",
    "print('a < b =', a < b)\n",
    "\n",
    "# greater than or equal to operator\n",
    "print('a >= b =', a >= b)\n",
    "\n",
    "# less than or equal to operator\n",
    "print('a <= b =', a <= b)\n",
    "#answer in true and false.\n"
   ]
  },
  {
   "cell_type": "code",
   "execution_count": 34,
   "id": "9280c359",
   "metadata": {},
   "outputs": [
    {
     "name": "stdout",
     "output_type": "stream",
     "text": [
      "True\n",
      "False\n",
      "True\n",
      "False\n"
     ]
    }
   ],
   "source": [
    "# logical AND\n",
    "print(True and True)     # True\n",
    "print(True and False)    # False\n",
    "\n",
    "# logical OR\n",
    "print(True or False)     # True\n",
    "\n",
    "# logical NOT\n",
    "print(not True)          # False\n"
   ]
  },
  {
   "cell_type": "code",
   "execution_count": 35,
   "id": "f2f75f7d",
   "metadata": {},
   "outputs": [
    {
     "name": "stdout",
     "output_type": "stream",
     "text": [
      "False\n",
      "True\n",
      "False\n"
     ]
    }
   ],
   "source": [
    "#Identity operator\n",
    "x1 = 5\n",
    "y1 = 5\n",
    "x2 = 'Hello'\n",
    "y2 = 'Hello'\n",
    "x3 = [1,2,3]\n",
    "y3 = [1,2,3]\n",
    "\n",
    "print(x1 is not y1)  # prints False\n",
    "\n",
    "print(x2 is y2)  # prints True\n",
    "\n",
    "print(x3 is y3)  # prints False"
   ]
  },
  {
   "cell_type": "code",
   "execution_count": 36,
   "id": "e974729c",
   "metadata": {},
   "outputs": [
    {
     "name": "stdout",
     "output_type": "stream",
     "text": [
      "True\n",
      "True\n",
      "True\n",
      "False\n"
     ]
    }
   ],
   "source": [
    "#Membership operator\n",
    "message = 'Hello world'\n",
    "dict1 = {1:'a', 2:'b'}\n",
    "\n",
    "# check if 'H' is present in message string\n",
    "print('H' in message)  # prints True\n",
    "\n",
    "# check if 'hello' is present in message string\n",
    "print('hello' not in message)  # prints True\n",
    "\n",
    "# check if '1' key is present in dict1\n",
    "print(1 in dict1)  # prints True\n",
    "\n",
    "# check if 'a' key is present in dict1\n",
    "print('a' in dict1)  # prints False"
   ]
  },
  {
   "cell_type": "code",
   "execution_count": 37,
   "id": "1dce99a2",
   "metadata": {},
   "outputs": [
    {
     "name": "stdout",
     "output_type": "stream",
     "text": [
      "a is greater than b\n"
     ]
    }
   ],
   "source": [
    "#If elif else condition\n",
    "a = 200\n",
    "b = 33\n",
    "if b > a:\n",
    "  print(\"b is greater than a\")\n",
    "elif a == b:\n",
    "  print(\"a and b are equal\")\n",
    "else:\n",
    "  print(\"a is greater than b\")"
   ]
  },
  {
   "cell_type": "code",
   "execution_count": 38,
   "id": "3460088d",
   "metadata": {},
   "outputs": [
    {
     "name": "stdout",
     "output_type": "stream",
     "text": [
      "Above ten,\n",
      "and also above 20!\n"
     ]
    }
   ],
   "source": [
    "x = 41\n",
    "\n",
    "if x > 10:\n",
    "  print(\"Above ten,\")\n",
    "  if x > 20:\n",
    "    print(\"and also above 20!\")\n",
    "  else:\n",
    "    print(\"but not above 20.\")"
   ]
  },
  {
   "cell_type": "code",
   "execution_count": 39,
   "id": "80b40955",
   "metadata": {},
   "outputs": [],
   "source": [
    "#Python loop are used to do work many times - for,while loop."
   ]
  },
  {
   "cell_type": "code",
   "execution_count": 40,
   "id": "35cd9332",
   "metadata": {},
   "outputs": [
    {
     "name": "stdout",
     "output_type": "stream",
     "text": [
      "Enter a number (-1 to quit): 4\n",
      "Enter a number (-1 to quit): 5\n",
      "Enter a number (-1 to quit): 5\n",
      "Enter a number (-1 to quit): 1\n",
      "Enter a number (-1 to quit): 0\n",
      "Enter a number (-1 to quit): -2\n",
      "Enter a number (-1 to quit): -1\n"
     ]
    }
   ],
   "source": [
    "a = int(input('Enter a number (-1 to quit): '))\n",
    "\n",
    "while a != -1:\n",
    "    a = int(input('Enter a number (-1 to quit): '))"
   ]
  },
  {
   "cell_type": "code",
   "execution_count": 41,
   "id": "b5f79c36",
   "metadata": {},
   "outputs": [
    {
     "name": "stdout",
     "output_type": "stream",
     "text": [
      "Value of i : 14\n"
     ]
    }
   ],
   "source": [
    "a = 'learn-together'\n",
    "i = 0\n",
    "\n",
    "while i < len(a):\n",
    "    i += 1\n",
    "    pass\n",
    "  \n",
    "print('Value of i :', i)"
   ]
  },
  {
   "cell_type": "code",
   "execution_count": 42,
   "id": "db22d12f",
   "metadata": {},
   "outputs": [
    {
     "name": "stdout",
     "output_type": "stream",
     "text": [
      "0\n",
      "2\n",
      "4\n",
      "6\n",
      "8\n"
     ]
    }
   ],
   "source": [
    "for i in range(0, 10, 2):\n",
    "    print(i)"
   ]
  },
  {
   "cell_type": "code",
   "execution_count": 43,
   "id": "47ff989e",
   "metadata": {},
   "outputs": [
    {
     "name": "stdout",
     "output_type": "stream",
     "text": [
      "1 1\n",
      "1 2\n",
      "1 3\n",
      "2 1\n",
      "2 2\n",
      "2 3\n",
      "3 1\n",
      "3 2\n",
      "3 3\n"
     ]
    }
   ],
   "source": [
    "for i in range(1, 4):\n",
    "    for j in range(1, 4):\n",
    "        print(i, j)"
   ]
  },
  {
   "cell_type": "code",
   "execution_count": 44,
   "id": "2e460e4e",
   "metadata": {},
   "outputs": [
    {
     "name": "stdout",
     "output_type": "stream",
     "text": [
      "learn\n",
      "data\n",
      "together\n"
     ]
    }
   ],
   "source": [
    "# Iterating over a list\n",
    "l = [\"learn\", \"data\", \"together\"]\n",
    "\n",
    "for i in l:\n",
    "    print(i)"
   ]
  },
  {
   "cell_type": "code",
   "execution_count": 45,
   "id": "9779e767",
   "metadata": {},
   "outputs": [
    {
     "name": "stdout",
     "output_type": "stream",
     "text": [
      "['Mathematics', 'chemistry', 1997, 2000, 20544]\n",
      "['Mathematics', 'chemistry', 10087, 1997, 2000, 20544]\n"
     ]
    }
   ],
   "source": [
    "#List data structure is mostly used in python.\n",
    "List = ['Mathematics', 'chemistry', 1997, 2000]\n",
    "List.append(20544)\n",
    "print(List)\n",
    "List.insert(2, 10087)\n",
    "print(List)"
   ]
  },
  {
   "cell_type": "code",
   "execution_count": 47,
   "id": "18c5662d",
   "metadata": {},
   "outputs": [
    {
     "name": "stdout",
     "output_type": "stream",
     "text": [
      "[1, 2, 3, 2, 3, 4, 5]\n",
      "20\n"
     ]
    }
   ],
   "source": [
    "List1 = [1, 2, 3]\n",
    "List2 = [2, 3, 4, 5]\n",
    "\n",
    "# Add List2 to List1\n",
    "List1.extend(List2)\n",
    "print(List1)\n",
    "print(sum(List1))\n"
   ]
  },
  {
   "cell_type": "code",
   "execution_count": 53,
   "id": "f9240287",
   "metadata": {},
   "outputs": [
    {
     "name": "stdout",
     "output_type": "stream",
     "text": [
      "4\n",
      "10\n",
      "1\n",
      "1\n"
     ]
    }
   ],
   "source": [
    "List = [1, 2, 3, 1, 2, 1, 2, 3, 2, 1]\n",
    "print(List.count(1))\n",
    "print(len(List))\n",
    "print(List.index(2))\n",
    "print(min(List))"
   ]
  },
  {
   "cell_type": "code",
   "execution_count": 72,
   "id": "034aeb59",
   "metadata": {},
   "outputs": [
    {
     "name": "stdout",
     "output_type": "stream",
     "text": [
      "4\n",
      "[6, 2, 3, 4, 2, 1, 3, 2, 1]\n",
      "[1, 1, 2, 2, 2, 3, 3, 4, 6]\n",
      "6\n",
      "[1, 1, 2, 2, 2, 3, 3, 4]\n",
      "[1, 2, 2, 2, 3, 3, 4]\n",
      "[1, 2, 2, 2, 3, 4]\n"
     ]
    }
   ],
   "source": [
    "List = [1, 2, 3, 1, 2, 4, 3, 2, 6]\n",
    "print(List.index(2, 2)) #2 second time kaha aa rha haan.\n",
    "List.reverse()\n",
    "print(List)\n",
    "List.sort()\n",
    "print(List)\n",
    "print(List.pop())#delete last element\n",
    "print(List)\n",
    "del List[0]#remove 0th index element\n",
    "print(List)\n",
    "List.remove(3)\n",
    "print(List)"
   ]
  },
  {
   "cell_type": "code",
   "execution_count": 74,
   "id": "5100b106",
   "metadata": {},
   "outputs": [
    {
     "name": "stdout",
     "output_type": "stream",
     "text": [
      "\n",
      "Converted String:UPPER CASE\n",
      "LEARN PYTHON PROGRAM\n",
      "\n",
      "Converted String:lower case\n",
      "learn python program\n",
      "\n",
      "Converted String:title case\n",
      "Learn Python Program\n",
      "\n",
      "Converted String:swapcase\n",
      "LEARN pYTHON program\n",
      "\n",
      "Converted String:capitalize\n",
      "Learn python program\n",
      "\n",
      "Original String\n",
      "learn Python PROGRAM\n"
     ]
    }
   ],
   "source": [
    "# Python3 program to show the\n",
    "\n",
    "text = 'learn Python PROGRAM'\n",
    "print(\"\\nConverted String:UPPER CASE\")\n",
    "print(text.upper())\n",
    "    \n",
    "print(\"\\nConverted String:lower case\")\n",
    "print(text.lower())\n",
    "\n",
    "print(\"\\nConverted String:title case\")\n",
    "print(text.title())\n",
    "\n",
    "print(\"\\nConverted String:swapcase\")\n",
    "print(text.swapcase())\n",
    "\n",
    "\n",
    "print(\"\\nConverted String:capitalize\")\n",
    "print(text.capitalize())\n",
    "\n",
    "\n",
    "print(\"\\nOriginal String\")\n",
    "print(text)"
   ]
  },
  {
   "cell_type": "code",
   "execution_count": 75,
   "id": "12331c7d",
   "metadata": {},
   "outputs": [
    {
     "ename": "SyntaxError",
     "evalue": "illegal target for annotation (3469486161.py, line 1)",
     "output_type": "error",
     "traceback": [
      "\u001b[1;36m  Cell \u001b[1;32mIn[75], line 1\u001b[1;36m\u001b[0m\n\u001b[1;33m    upper(): Converts all characters in a string to uppercase.\u001b[0m\n\u001b[1;37m    ^\u001b[0m\n\u001b[1;31mSyntaxError\u001b[0m\u001b[1;31m:\u001b[0m illegal target for annotation\n"
     ]
    }
   ],
   "source": [
    "upper(): Converts all characters in a string to uppercase.\n",
    "lower(): Converts all characters in a string to lowercase.\n",
    "find(substring): Returns the lowest index in the string where the substring is found.\n",
    "strip(): Removes any leading and trailing characters (space is the default).\n",
    "replace(old, new): Replaces occurrences of a substring within the string.\n",
    "split(delimiter): Splits the string at the specified delimiter and returns a list of substrings.\n",
    "join(iterable): Concatenates elements of an iterable with a specified separator.\n",
    "startswith(prefix): Checks if the string starts with the specified prefix.\n",
    "endswith(suffix): Checks if the string ends with the specified suffix."
   ]
  },
  {
   "cell_type": "code",
   "execution_count": 76,
   "id": "136feab2",
   "metadata": {},
   "outputs": [
    {
     "name": "stdout",
     "output_type": "stream",
     "text": [
      "Hello Friends\n"
     ]
    }
   ],
   "source": [
    "message = 'Hola Amigos'\n",
    "\n",
    "# assign new string to message variable\n",
    "message = 'Hello Friends'\n",
    "\n",
    "print(message); # prints \"Hello Friends\""
   ]
  },
  {
   "cell_type": "code",
   "execution_count": 78,
   "id": "34d68095",
   "metadata": {},
   "outputs": [
    {
     "name": "stdout",
     "output_type": "stream",
     "text": [
      "False\n",
      "Hello, world!I love Swift.\n",
      "H\n",
      "e\n",
      "l\n",
      "l\n",
      "o\n",
      ",\n",
      " \n",
      "w\n",
      "o\n",
      "r\n",
      "l\n",
      "d\n",
      "!\n",
      "I\n",
      " \n",
      "l\n",
      "o\n",
      "v\n",
      "e\n",
      " \n",
      "S\n",
      "w\n",
      "i\n",
      "f\n",
      "t\n",
      ".\n"
     ]
    }
   ],
   "source": [
    "str1 = \"Hello, world!\"\n",
    "str2 = \"I love Swift.\"\n",
    "\n",
    "\n",
    "# compare str1 and str2\n",
    "print(str1 == str2)\n",
    "result = str1 + str2\n",
    "print(result)\n",
    "for letter in result:\n",
    "    print(letter)"
   ]
  },
  {
   "cell_type": "code",
   "execution_count": 79,
   "id": "9e607de6",
   "metadata": {},
   "outputs": [
    {
     "name": "stdout",
     "output_type": "stream",
     "text": [
      "True\n",
      "False\n"
     ]
    }
   ],
   "source": [
    "print('a' in 'program') # True\n",
    "print('at' not in 'battle') # False"
   ]
  },
  {
   "cell_type": "code",
   "execution_count": 84,
   "id": "0224e62c",
   "metadata": {},
   "outputs": [
    {
     "name": "stdout",
     "output_type": "stream",
     "text": [
      "(1, (2, 3, 1), ['hello', 'world', '12'])\n",
      "<class 'tuple'>\n",
      "(2, 3, 1)\n",
      "3\n"
     ]
    }
   ],
   "source": [
    "t= (1,(2,3,1),['hello','world','12'])\n",
    "print(t)\n",
    "print(type(t))\n",
    "print(t[1])\n",
    "print(t[1][1])"
   ]
  },
  {
   "cell_type": "code",
   "execution_count": 90,
   "id": "b7addf1b",
   "metadata": {},
   "outputs": [
    {
     "name": "stdout",
     "output_type": "stream",
     "text": [
      "(1, 2, 3, 3, 4, 5)\n",
      "True\n",
      "[1, 2, 3, 3, 4, 5]\n"
     ]
    }
   ],
   "source": [
    "t=(1,2,3)+(3,4,5)\n",
    "print(t)\n",
    "print(3 in t)\n",
    "sorted_tuple = sorted(t)\n",
    "print(sorted_tuple)"
   ]
  },
  {
   "cell_type": "code",
   "execution_count": null,
   "id": "c53ed3bd",
   "metadata": {},
   "outputs": [],
   "source": []
  }
 ],
 "metadata": {
  "kernelspec": {
   "display_name": "Python 3 (ipykernel)",
   "language": "python",
   "name": "python3"
  },
  "language_info": {
   "codemirror_mode": {
    "name": "ipython",
    "version": 3
   },
   "file_extension": ".py",
   "mimetype": "text/x-python",
   "name": "python",
   "nbconvert_exporter": "python",
   "pygments_lexer": "ipython3",
   "version": "3.10.9"
  }
 },
 "nbformat": 4,
 "nbformat_minor": 5
}
